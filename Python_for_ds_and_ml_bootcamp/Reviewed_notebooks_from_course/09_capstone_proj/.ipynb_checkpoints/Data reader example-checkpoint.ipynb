{
 "cells": [
  {
   "cell_type": "markdown",
   "id": "ecee41c6",
   "metadata": {},
   "source": [
    "Let's find out which version of Python we are working wth:"
   ]
  },
  {
   "cell_type": "code",
   "execution_count": 12,
   "id": "b19571ce",
   "metadata": {},
   "outputs": [
    {
     "name": "stdout",
     "output_type": "stream",
     "text": [
      "Python 3.8.8\n"
     ]
    }
   ],
   "source": [
    "!python --version"
   ]
  },
  {
   "cell_type": "markdown",
   "id": "f005c2c2",
   "metadata": {},
   "source": [
    "With the following line, we can know which libraries we have already installed:"
   ]
  },
  {
   "cell_type": "code",
   "execution_count": 10,
   "id": "c8ee0b31",
   "metadata": {
    "scrolled": true
   },
   "outputs": [
    {
     "name": "stdout",
     "output_type": "stream",
     "text": [
      "\n",
      "Please wait a moment while I gather a list of all available modules...\n",
      "\n"
     ]
    },
    {
     "name": "stderr",
     "output_type": "stream",
     "text": [
      "C:\\Users\\ovazquezmendoza\\Anaconda3\\lib\\site-packages\\IPython\\kernel\\__init__.py:12: ShimWarning: The `IPython.kernel` package has been deprecated since IPython 4.0.You should import from ipykernel or jupyter_client instead.\n",
      "  warn(\"The `IPython.kernel` package has been deprecated since IPython 4.0.\"\n",
      "WARNING: AstropyDeprecationWarning: The private astropy._erfa module has been made into its own package, pyerfa, which is a dependency of astropy and can be imported directly using \"import erfa\" [astropy._erfa]\n",
      "C:\\Users\\ovazquezmendoza\\Anaconda3\\lib\\pkgutil.py:92: MatplotlibDeprecationWarning:\n",
      "\n",
      "\n",
      "The matplotlib.compat module was deprecated in Matplotlib 3.3 and will be removed two minor releases later.\n",
      "\n",
      "C:\\Users\\ovazquezmendoza\\Anaconda3\\lib\\site-packages\\nltk\\twitter\\__init__.py:21: UserWarning:\n",
      "\n",
      "The twython library has not been installed. Some functionality from the twitter package will not be available.\n",
      "\n",
      "C:\\Users\\ovazquezmendoza\\Anaconda3\\lib\\site-packages\\skimage\\viewer\\utils\\__init__.py:1: UserWarning:\n",
      "\n",
      "Recommended matplotlib backend is `Agg` for full skimage.viewer functionality.\n",
      "\n",
      "C:\\Users\\ovazquezmendoza\\Anaconda3\\lib\\site-packages\\qtawesome\\iconic_font.py:313: UserWarning:\n",
      "\n",
      "You need to have a running QApplication to use QtAwesome!\n",
      "\n"
     ]
    },
    {
     "name": "stdout",
     "output_type": "stream",
     "text": [
      "_cffi_ext.c\r\n",
      "C:\\Users\\ovazquezmendoza\\Anaconda3\\lib\\site-packages\\zmq\\backend\\cffi\\__pycache__\\_cffi_ext.c(268): fatal error C1083: Cannot open include file: 'zmq.h': No such file or directory\r\n"
     ]
    },
    {
     "name": "stderr",
     "output_type": "stream",
     "text": [
      "C:\\Users\\ovazquezmendoza\\Anaconda3\\lib\\pkgutil.py:107: VisibleDeprecationWarning:\n",
      "\n",
      "zmq.eventloop.minitornado is deprecated in pyzmq 14.0 and will be removed.\n",
      "    Install tornado itself to use zmq with the tornado IOLoop.\n",
      "    \n",
      "\n"
     ]
    },
    {
     "name": "stdout",
     "output_type": "stream",
     "text": [
      "Cython              brain_responses     locale              six\n",
      "IPython             brain_scipy_signal  locket              skimage\n",
      "OpenSSL             brain_six           logging             sklearn\n",
      "PIL                 brain_sqlalchemy    lxml                smtpd\n",
      "PyQt5               brain_ssl           lzma                smtplib\n",
      "__future__          brain_subprocess    mailbox             sndhdr\n",
      "_abc                brain_threading     mailcap             sniffio\n",
      "_ast                brain_type          markupsafe          snowballstemmer\n",
      "_asyncio            brain_typing        marshal             socket\n",
      "_bisect             brain_uuid          math                socketserver\n",
      "_black_version      brotli              matplotlib          socks\n",
      "_blake2             bs4                 mccabe              sockshandler\n",
      "_bootlocale         builtins            menuinst            sortedcollections\n",
      "_bz2                bz2                 mimetypes           sortedcontainers\n",
      "_cffi_backend       cProfile            mistune             soupsieve\n",
      "_codecs             calendar            mkl                 sphinx\n",
      "_codecs_cn          certifi             mkl_fft             sphinxcontrib\n",
      "_codecs_hk          cffi                mkl_random          spyder\n",
      "_codecs_iso2022     cgi                 mmap                spyder_kernels\n",
      "_codecs_jp          cgitb               mmapfile            sqlalchemy\n",
      "_codecs_kr          chardet             mmsystem            sqlite3\n",
      "_codecs_tw          charset_normalizer  mock                sre_compile\n",
      "_collections        chart_studio        modulefinder        sre_constants\n",
      "_collections_abc    chunk               more_itertools      sre_parse\n",
      "_compat_pickle      click               mpmath              ssl\n",
      "_compression        cloudpickle         msal                sspi\n",
      "_contextvars        clyent              msgpack             sspicon\n",
      "_csv                cmath               msilib              stat\n",
      "_ctypes             cmd                 msrest              statistics\n",
      "_ctypes_test        code                msvcrt              statsmodels\n",
      "_datetime           codecs              multidict           storemagic\n",
      "_decimal            codeop              multipledispatch    string\n",
      "_distutils_hack     collections         multiprocessing     stringprep\n",
      "_dummy_thread       colorama            mypy_extensions     struct\n",
      "_elementtree        colorlover          nacl                subprocess\n",
      "_functools          colorsys            navigator_updater   sunau\n",
      "_hashlib            commctrl            nbclassic           symbol\n",
      "_heapq              compileall          nbclient            sympy\n",
      "_imp                comtypes            nbconvert           sympyprinting\n",
      "_io                 concurrent          nbformat            symtable\n",
      "_json               conda               nest_asyncio        sys\n",
      "_locale             conda_build         netbios             sysconfig\n",
      "_lsprof             conda_content_trust netrc               tables\n",
      "_lzma               conda_env           networkx            tabnanny\n",
      "_markupbase         conda_package_handling nltk                tarfile\n",
      "_md5                conda_token         nntplib             tblib\n",
      "_msi                conda_verify        nose                telnetlib\n",
      "_multibytecodec     configparser        notebook            tempfile\n",
      "_multiprocessing    contextlib          nt                  tenacity\n",
      "_nsis               contextlib2         ntpath              terminado\n",
      "_opcode             contextvars         ntsecuritycon       test\n",
      "_operator           cookiecutter        nturl2path          test_pycosat\n",
      "_osx_support        copy                numba               testpath\n",
      "_overlapped         copyreg             numbers             tests\n",
      "_pickle             crypt               numexpr             textdistance\n",
      "_plotly_future_     cryptography        numpy               textwrap\n",
      "_plotly_utils       csv                 numpydoc            this\n",
      "_py_abc             ctypes              oauthlib            threading\n",
      "_pydecimal          cufflinks           odbc                threadpoolctl\n",
      "_pyio               curl                olefile             three_merge\n",
      "_pyrsistent_version curses              opcode              tifffile\n",
      "_pytest             cwp                 openpyxl            time\n",
      "_queue              cycler              operator            timeit\n",
      "_random             cython              optparse            timer\n",
      "_sha1               cythonmagic         os                  tkinter\n",
      "_sha256             cytoolz             packaging           tlz\n",
      "_sha3               dask                pandas              token\n",
      "_sha512             data_reader         pandas_datareader   tokenize\n",
      "_signal             dataclasses         pandocfilters       toml\n",
      "_sitebuiltins       datetime            paramiko            toolz\n",
      "_socket             dateutil            parser              tornado\n",
      "_sqlite3            dbi                 parso               tqdm\n",
      "_sre                dbm                 partd               trace\n",
      "_ssl                dde                 past                traceback\n",
      "_stat               decimal             path                tracemalloc\n",
      "_statistics         decorator           pathlib             traitlets\n",
      "_string             defusedxml          pathlib2            tty\n",
      "_strptime           diff_match_patch    pathspec            turtle\n",
      "_struct             difflib             patsy               turtledemo\n",
      "_symtable           dis                 pdb                 typed_ast\n",
      "_system_path        distributed         pep8                types\n",
      "_testbuffer         distutils           perfmon             typing\n",
      "_testcapi           doctest             pexpect             typing_extensions\n",
      "_testconsole        docutils            pickle              ujson\n",
      "_testimportmultiple dummy_threading     pickleshare         unicodecsv\n",
      "_testinternalcapi   email               pickletools         unicodedata\n",
      "_testmultiphase     encodings           pip                 unittest\n",
      "_thread             ensurepip           pipes               urllib\n",
      "_threading_local    entrypoints         pkg_resources       urllib3\n",
      "_tkinter            enum                pkginfo             uu\n",
      "_tracemalloc        erfa                pkgutil             uuid\n",
      "_warnings           errno               platform            venv\n",
      "_weakref            et_xmlfile          plistlib            warnings\n",
      "_weakrefset         fastcache           plotly              watchdog\n",
      "_win32sysloader     faulthandler        pluggy              wave\n",
      "_winapi             filecmp             ply                 wcwidth\n",
      "_winxptheme         fileinput           poplib              weakref\n",
      "_xxsubinterpreters  filelock            posixpath           webbrowser\n",
      "_yaml               flake8              poyo                webencodings\n",
      "abc                 flask               pprint              werkzeug\n",
      "adodbapi            fnmatch             profile             wheel\n",
      "afxres              formatter           prometheus_client   whichcraft\n",
      "aifc                fractions           prompt_toolkit      widgetsnbextension\n",
      "aiohttp             frozenlist          pstats              win2kras\n",
      "aiosignal           fsspec              psutil              win32api\n",
      "alabaster           ftplib              pty                 win32clipboard\n",
      "anaconda_navigator  functools           ptyprocess          win32com\n",
      "anaconda_project    future              pvectorc            win32con\n",
      "antigravity         gc                  py                  win32console\n",
      "anyio               genericpath         py_compile          win32cred\n",
      "appdirs             getopt              pyclbr              win32crypt\n",
      "argh                getpass             pycodestyle         win32cryptcon\n",
      "argon2              gettext             pycosat             win32ctypes\n",
      "argparse            gevent              pycparser           win32event\n",
      "array               glob                pycurl              win32evtlog\n",
      "arrow               glob2               pydoc               win32evtlogutil\n",
      "asn1crypto          greenlet            pydoc_data          win32file\n",
      "ast                 gzip                pydocstyle          win32gui\n"
     ]
    },
    {
     "name": "stdout",
     "output_type": "stream",
     "text": [
      "astroid             h5py                pyexpat             win32gui_struct\n",
      "astropy             hashlib             pyflakes            win32help\n",
      "async_generator     heapdict            pygments            win32inet\n",
      "async_timeout       heapq               pylab               win32inetcon\n",
      "asynchat            hmac                pylint              win32job\n",
      "asyncio             html                pyls                win32lz\n",
      "asyncore            html5lib            pyls_black          win32net\n",
      "atexit              http                pyls_jsonrpc        win32netcon\n",
      "atomicwrites        idlelib             pyls_spyder         win32pdh\n",
      "attr                idna                pyodbc              win32pdhquery\n",
      "audioop             ijson               pyparsing           win32pdhutil\n",
      "autopep8            imagecodecs         pyreadline          win32pipe\n",
      "autoreload          imageio             pyrsistent          win32print\n",
      "babel               imagesize           pytest              win32process\n",
      "backcall            imaplib             pythoncom           win32profile\n",
      "backports           imghdr              pytz                win32ras\n",
      "base64              imp                 pywin               win32rcparser\n",
      "bcrypt              importlib           pywin32_bootstrap   win32security\n",
      "bdb                 importlib_metadata  pywin32_testutil    win32service\n",
      "binaryornot         iniconfig           pywintypes          win32serviceutil\n",
      "binascii            inspect             pywt                win32timezone\n",
      "binhex              intervaltree        pyximport           win32trace\n",
      "binstar_client      io                  qdarkstyle          win32traceutil\n",
      "bisect              ipaddress           qtawesome           win32transaction\n",
      "bitarray            ipykernel           qtconsole           win32ts\n",
      "bkcharts            ipykernel_launcher  qtpy                win32ui\n",
      "black               ipython_genutils    queue               win32uiole\n",
      "blackd              ipywidgets          quopri              win32verstamp\n",
      "bleach              isapi               random              win32wnet\n",
      "blib2to3            isodate             rasutil             win_inet_pton\n",
      "bokeh               isort               re                  win_unicode_console\n",
      "boto                isympy              readline            wincertstore\n",
      "bottleneck          itertools           regcheck            winerror\n",
      "brain_argparse      itsdangerous        regex               winioctlcon\n",
      "brain_attrs         jdcal               regutil             winnt\n",
      "brain_boto3         jedi                repo_cli            winperf\n",
      "brain_builtin_inference jinja2              reprlib             winpty\n",
      "brain_collections   jinja2_time         requests            winreg\n",
      "brain_crypt         joblib              requests_oauthlib   winsound\n",
      "brain_curses        json                retrying            winxpgui\n",
      "brain_dataclasses   json5               rlcompleter         winxptheme\n",
      "brain_dateutil      jsonpickle          rmagic              wrapt\n",
      "brain_fstrings      jsonschema          rope                wsgiref\n",
      "brain_functools     jupyter             rtree               xdrlib\n",
      "brain_gi            jupyter_client      ruamel_yaml         xlrd\n",
      "brain_hashlib       jupyter_console     run                 xlsxwriter\n",
      "brain_http          jupyter_core        runpy               xlwings\n",
      "brain_hypothesis    jupyter_packaging   sched               xlwt\n",
      "brain_io            jupyter_server      scipy               xml\n",
      "brain_mechanize     jupyterlab          scripts             xmlrpc\n",
      "brain_multiprocessing jupyterlab_plotly   seaborn             xmltodict\n",
      "brain_namedtuple_enum jupyterlab_pygments secrets             xxsubtype\n",
      "brain_nose          jupyterlab_server   select              yaml\n",
      "brain_numpy_core_fromnumeric jupyterlab_widgets  selectors           yapf\n",
      "brain_numpy_core_function_base jwt                 send2trash          yapftests\n",
      "brain_numpy_core_multiarray keyring             servicemanager      yarl\n",
      "brain_numpy_core_numeric keyword             setuptools          zict\n",
      "brain_numpy_core_numerictypes kiwisolver          shelve              zipapp\n",
      "brain_numpy_core_umath kneed               shlex               zipfile\n",
      "brain_numpy_ndarray lazy_object_proxy   shutil              zipimport\n",
      "brain_numpy_random_mtrand lib2to3             signal              zipp\n",
      "brain_numpy_utils   libarchive          simplegeneric       zlib\n",
      "brain_pkg_resources libfuturize         singledispatch      zmq\n",
      "brain_pytest        libpasteurize       sip                 zope\n",
      "brain_qt            lief                sipconfig           ~ryptography\n",
      "brain_random        linecache           sipdistutils        \n",
      "brain_re            llvmlite            site                \n",
      "\n",
      "Enter any module name to get more help.  Or, type \"modules spam\" to search\n",
      "for modules whose name or summary contain the string \"spam\".\n",
      "\n"
     ]
    }
   ],
   "source": [
    "help(\"modules\")"
   ]
  },
  {
   "cell_type": "markdown",
   "id": "9e841d35",
   "metadata": {},
   "source": [
    "## Importing a library\n",
    "\n",
    "\n",
    "The following cell will try to import the pandas data reader library.\n",
    "\n",
    "Pandas Datareader is a Python package that allows us to create a pandas DataFrame by using some popular data sources available on the internet including:\n",
    "\n",
    "* Yahoo Finance\n",
    "* Google Finance\n",
    "* Morningstar\n",
    "* IEX\n",
    "* Robinhood\n",
    "* Engima\n",
    "* Quandl\n",
    "* FRED\n",
    "* World Bank\n",
    "* OECD and many more."
   ]
  },
  {
   "cell_type": "code",
   "execution_count": 1,
   "id": "35083bbe",
   "metadata": {},
   "outputs": [
    {
     "ename": "ModuleNotFoundError",
     "evalue": "No module named 'pandas_datareader'",
     "output_type": "error",
     "traceback": [
      "\u001b[1;31m---------------------------------------------------------------------------\u001b[0m",
      "\u001b[1;31mModuleNotFoundError\u001b[0m                       Traceback (most recent call last)",
      "\u001b[1;32m<ipython-input-1-7e0f2d1207f1>\u001b[0m in \u001b[0;36m<module>\u001b[1;34m\u001b[0m\n\u001b[1;32m----> 1\u001b[1;33m \u001b[1;32mfrom\u001b[0m \u001b[0mpandas_datareader\u001b[0m \u001b[1;32mimport\u001b[0m \u001b[0mdata\u001b[0m\u001b[1;33m,\u001b[0m \u001b[0mwb\u001b[0m\u001b[1;33m\u001b[0m\u001b[1;33m\u001b[0m\u001b[0m\n\u001b[0m",
      "\u001b[1;31mModuleNotFoundError\u001b[0m: No module named 'pandas_datareader'"
     ]
    }
   ],
   "source": [
    "from pandas_datareader import data, wb"
   ]
  },
  {
   "cell_type": "markdown",
   "id": "df45e53a",
   "metadata": {},
   "source": []
  },
  {
   "cell_type": "code",
   "execution_count": 13,
   "id": "13e23142",
   "metadata": {},
   "outputs": [],
   "source": [
    "import pandas as pd\n",
    "import matplotlib.pyplot as plt"
   ]
  },
  {
   "cell_type": "markdown",
   "id": "75f5c0e9",
   "metadata": {},
   "source": [
    "## Installing it \n",
    "\n",
    "As we have seen, we cgot an error on the previous cell. When errors appear after trying to run a cell, it is a good practice to Google the last line of the error message so that you can find what is causing such error.\n",
    "\n",
    "This case's message mentions that there is no module named \"pandas_datareader\", which means that we have to install its library. The following link has the full description of the pandas data reader and which command you have to execute so that you can use it: https://pypi.org/project/data-reader/"
   ]
  },
  {
   "cell_type": "markdown",
   "id": "3d0b98f3",
   "metadata": {},
   "source": [
    "The website mentions that we have to run: **pip install data-reader**\n",
    "\n",
    "(Notice that the name of the package \"data-reader\" is not the same as the module name we tried to import \"pandas_datareader\" so be sure that you have the right package name to install)\n",
    "\n",
    "In a jupyter notebook, you will have to add an exclamation mark at the beginnning of it as you can see in the next cell:"
   ]
  },
  {
   "cell_type": "code",
   "execution_count": 2,
   "id": "bdc605fa",
   "metadata": {},
   "outputs": [
    {
     "name": "stdout",
     "output_type": "stream",
     "text": [
      "Collecting pandas_datareader\n",
      "  Using cached pandas_datareader-0.10.0-py3-none-any.whl (109 kB)\n",
      "Requirement already satisfied: pandas>=0.23 in c:\\users\\ovazquezmendoza\\anaconda3\\lib\\site-packages (from pandas_datareader) (1.2.4)\n",
      "Requirement already satisfied: requests>=2.19.0 in c:\\users\\ovazquezmendoza\\anaconda3\\lib\\site-packages (from pandas_datareader) (2.25.1)\n",
      "Requirement already satisfied: lxml in c:\\users\\ovazquezmendoza\\anaconda3\\lib\\site-packages (from pandas_datareader) (4.6.3)\n",
      "Requirement already satisfied: python-dateutil>=2.7.3 in c:\\users\\ovazquezmendoza\\anaconda3\\lib\\site-packages (from pandas>=0.23->pandas_datareader) (2.8.1)\n",
      "Requirement already satisfied: pytz>=2017.3 in c:\\users\\ovazquezmendoza\\anaconda3\\lib\\site-packages (from pandas>=0.23->pandas_datareader) (2021.1)\n",
      "Requirement already satisfied: numpy>=1.16.5 in c:\\users\\ovazquezmendoza\\anaconda3\\lib\\site-packages (from pandas>=0.23->pandas_datareader) (1.20.1)\n",
      "Requirement already satisfied: six>=1.5 in c:\\users\\ovazquezmendoza\\anaconda3\\lib\\site-packages (from python-dateutil>=2.7.3->pandas>=0.23->pandas_datareader) (1.15.0)\n",
      "Requirement already satisfied: urllib3<1.27,>=1.21.1 in c:\\users\\ovazquezmendoza\\anaconda3\\lib\\site-packages (from requests>=2.19.0->pandas_datareader) (1.26.4)\n",
      "Requirement already satisfied: chardet<5,>=3.0.2 in c:\\users\\ovazquezmendoza\\anaconda3\\lib\\site-packages (from requests>=2.19.0->pandas_datareader) (4.0.0)\n",
      "Requirement already satisfied: certifi>=2017.4.17 in c:\\users\\ovazquezmendoza\\anaconda3\\lib\\site-packages (from requests>=2.19.0->pandas_datareader) (2020.12.5)\n",
      "Requirement already satisfied: idna<3,>=2.5 in c:\\users\\ovazquezmendoza\\anaconda3\\lib\\site-packages (from requests>=2.19.0->pandas_datareader) (2.10)\n",
      "Installing collected packages: pandas-datareader\n",
      "Successfully installed pandas-datareader-0.10.0\n"
     ]
    }
   ],
   "source": [
    "!pip install pandas_datareader"
   ]
  },
  {
   "cell_type": "markdown",
   "id": "a62f0ff0",
   "metadata": {},
   "source": [
    "You should have a message on your screen, after executing the previous cell, that says: \"Successfully installed pandas-datareader...\"\n",
    "This means that you can now import it on your code and start using it. So let's try to import it again:"
   ]
  },
  {
   "cell_type": "code",
   "execution_count": 6,
   "id": "d26396a1",
   "metadata": {},
   "outputs": [],
   "source": [
    "from pandas_datareader import data, wb\n",
    "import pandas as pd\n",
    "import matplotlib.pyplot as plt"
   ]
  },
  {
   "cell_type": "markdown",
   "id": "bc5fd702",
   "metadata": {},
   "source": [
    "Now we can use data reader, so let's try to extract stock information about Bank of America (via Yahoo) from 2006 until the end of 2016:"
   ]
  },
  {
   "cell_type": "code",
   "execution_count": 4,
   "id": "bcf1c323",
   "metadata": {},
   "outputs": [
    {
     "data": {
      "text/html": [
       "<div>\n",
       "<style scoped>\n",
       "    .dataframe tbody tr th:only-of-type {\n",
       "        vertical-align: middle;\n",
       "    }\n",
       "\n",
       "    .dataframe tbody tr th {\n",
       "        vertical-align: top;\n",
       "    }\n",
       "\n",
       "    .dataframe thead th {\n",
       "        text-align: right;\n",
       "    }\n",
       "</style>\n",
       "<table border=\"1\" class=\"dataframe\">\n",
       "  <thead>\n",
       "    <tr style=\"text-align: right;\">\n",
       "      <th></th>\n",
       "      <th>High</th>\n",
       "      <th>Low</th>\n",
       "      <th>Open</th>\n",
       "      <th>Close</th>\n",
       "      <th>Volume</th>\n",
       "      <th>Adj Close</th>\n",
       "    </tr>\n",
       "    <tr>\n",
       "      <th>Date</th>\n",
       "      <th></th>\n",
       "      <th></th>\n",
       "      <th></th>\n",
       "      <th></th>\n",
       "      <th></th>\n",
       "      <th></th>\n",
       "    </tr>\n",
       "  </thead>\n",
       "  <tbody>\n",
       "    <tr>\n",
       "      <th>2006-01-03</th>\n",
       "      <td>47.180000</td>\n",
       "      <td>46.150002</td>\n",
       "      <td>46.919998</td>\n",
       "      <td>47.080002</td>\n",
       "      <td>16296700.0</td>\n",
       "      <td>33.364235</td>\n",
       "    </tr>\n",
       "    <tr>\n",
       "      <th>2006-01-04</th>\n",
       "      <td>47.240002</td>\n",
       "      <td>46.450001</td>\n",
       "      <td>47.000000</td>\n",
       "      <td>46.580002</td>\n",
       "      <td>17757900.0</td>\n",
       "      <td>33.009907</td>\n",
       "    </tr>\n",
       "    <tr>\n",
       "      <th>2006-01-05</th>\n",
       "      <td>46.830002</td>\n",
       "      <td>46.320000</td>\n",
       "      <td>46.580002</td>\n",
       "      <td>46.639999</td>\n",
       "      <td>14970700.0</td>\n",
       "      <td>33.052422</td>\n",
       "    </tr>\n",
       "    <tr>\n",
       "      <th>2006-01-06</th>\n",
       "      <td>46.910000</td>\n",
       "      <td>46.349998</td>\n",
       "      <td>46.799999</td>\n",
       "      <td>46.570000</td>\n",
       "      <td>12599800.0</td>\n",
       "      <td>33.002815</td>\n",
       "    </tr>\n",
       "    <tr>\n",
       "      <th>2006-01-09</th>\n",
       "      <td>46.970001</td>\n",
       "      <td>46.360001</td>\n",
       "      <td>46.720001</td>\n",
       "      <td>46.599998</td>\n",
       "      <td>15619400.0</td>\n",
       "      <td>33.024075</td>\n",
       "    </tr>\n",
       "  </tbody>\n",
       "</table>\n",
       "</div>"
      ],
      "text/plain": [
       "                 High        Low       Open      Close      Volume  Adj Close\n",
       "Date                                                                         \n",
       "2006-01-03  47.180000  46.150002  46.919998  47.080002  16296700.0  33.364235\n",
       "2006-01-04  47.240002  46.450001  47.000000  46.580002  17757900.0  33.009907\n",
       "2006-01-05  46.830002  46.320000  46.580002  46.639999  14970700.0  33.052422\n",
       "2006-01-06  46.910000  46.349998  46.799999  46.570000  12599800.0  33.002815\n",
       "2006-01-09  46.970001  46.360001  46.720001  46.599998  15619400.0  33.024075"
      ]
     },
     "execution_count": 4,
     "metadata": {},
     "output_type": "execute_result"
    }
   ],
   "source": [
    "BAC = data.DataReader('BAC', 'yahoo', start='2006-01-01', end='2016-01-01')\n",
    "BAC.head()"
   ]
  },
  {
   "cell_type": "markdown",
   "id": "7f2e4586",
   "metadata": {},
   "source": [
    "Finally, let's try to see the Bank of America's closing price through the ten years we extracted:"
   ]
  },
  {
   "cell_type": "code",
   "execution_count": 8,
   "id": "80d3597c",
   "metadata": {},
   "outputs": [
    {
     "data": {
      "image/png": "[encoded data removed]",
      "text/plain": [
       "<Figure size 432x288 with 1 Axes>"
      ]
     },
     "metadata": {
      "needs_background": "light"
     },
     "output_type": "display_data"
    }
   ],
   "source": [
    "close = BAC['Close']\n",
    "ax = close.plot(title='Bank of America')\n",
    "ax.set_xlabel('Date')\n",
    "ax.set_ylabel('Close')\n",
    "ax.grid()\n",
    "plt.show()"
   ]
  }
 ],
 "metadata": {
  "kernelspec": {
   "display_name": "Python 3",
   "language": "python",
   "name": "python3"
  },
  "language_info": {
   "codemirror_mode": {
    "name": "ipython",
    "version": 3
   },
   "file_extension": ".py",
   "mimetype": "text/x-python",
   "name": "python",
   "nbconvert_exporter": "python",
   "pygments_lexer": "ipython3",
   "version": "3.8.8"
  }
 },
 "nbformat": 4,
 "nbformat_minor": 5
}
