{
 "cells": [
  {
   "cell_type": "markdown",
   "id": "00efd110",
   "metadata": {},
   "source": [
    "## Exercises\n",
    "\n",
    "Answer the questions or complete the tasks outlined in bold below"
   ]
  },
  {
   "cell_type": "markdown",
   "id": "8420907a",
   "metadata": {},
   "source": [
    "What is 7 to the power of 4?"
   ]
  },
  {
   "cell_type": "code",
   "execution_count": 1,
   "id": "707e914d",
   "metadata": {},
   "outputs": [
    {
     "data": {
      "text/plain": [
       "2401"
      ]
     },
     "execution_count": 1,
     "metadata": {},
     "output_type": "execute_result"
    }
   ],
   "source": []
  },
  {
   "cell_type": "markdown",
   "id": "f6f3e21c",
   "metadata": {},
   "source": [
    "** Given the variables:**\n",
    "\n",
    "planet = \"Earth\"\n",
    "diameter = 12742\n",
    "\n",
    "** Use .format() to print the following string: **\n",
    "\n",
    "The diameter of Earth is 12742 kilometers."
   ]
  },
  {
   "cell_type": "code",
   "execution_count": 2,
   "id": "863664af",
   "metadata": {},
   "outputs": [
    {
     "name": "stdout",
     "output_type": "stream",
     "text": [
      "The diameter of Earth is 12742 kilometers\n"
     ]
    }
   ],
   "source": []
  },
  {
   "cell_type": "markdown",
   "id": "546fd4f0",
   "metadata": {},
   "source": [
    "Now, using .replace(), with the previous string, switch \"Earth\" for the word \"Moon\""
   ]
  },
  {
   "cell_type": "code",
   "execution_count": 3,
   "id": "73917223",
   "metadata": {},
   "outputs": [
    {
     "data": {
      "text/plain": [
       "'The diameter of Moon is 12742 kilometers'"
      ]
     },
     "execution_count": 3,
     "metadata": {},
     "output_type": "execute_result"
    }
   ],
   "source": []
  },
  {
   "cell_type": "markdown",
   "id": "b8b73534",
   "metadata": {},
   "source": [
    "** Split this string:**\n",
    "\n",
    "s = \"Hi there Sam!\"\n",
    "*into a list. *"
   ]
  },
  {
   "cell_type": "code",
   "execution_count": 4,
   "id": "e500bebb",
   "metadata": {},
   "outputs": [
    {
     "data": {
      "text/plain": [
       "['Hi', 'there', 'Sam!']"
      ]
     },
     "execution_count": 4,
     "metadata": {},
     "output_type": "execute_result"
    }
   ],
   "source": []
  },
  {
   "cell_type": "markdown",
   "id": "cf40a413",
   "metadata": {},
   "source": [
    "Problem:\n",
    "\n",
    "You work for the police and you receive the recorded speed of the last 10 vehicles that passed in front of a camera in a road. The recorded speeds have been given to you in the following list:\n",
    "\n",
    "speeds = [50,10,100,120,70,60,30,85,65,10]\n",
    "\n",
    "Write some code that will help you to know what kind of ticket has to be given to each vehicle according to the speed recorded. There can be 3 possible results: \"No ticket\", \"Small ticket\", or \"Big Ticket\". Make sure you also print the vehicle's speed next to the ticket they are getting.\n",
    "\n",
    "If the speed is 60 or less, the result is \"No Ticket\". If speed is between 61 and 80 inclusive, the result is \"Small Ticket\". If speed is 81 or more, the result is \"Big Ticket\".\n",
    "\n",
    "An example of what you should print would be:\n",
    "\n",
    "    Vehicle that had a speed of 50, should receive: No ticket"
   ]
  },
  {
   "cell_type": "code",
   "execution_count": 6,
   "id": "9f57a0fa",
   "metadata": {},
   "outputs": [
    {
     "name": "stdout",
     "output_type": "stream",
     "text": [
      "Vehicle with a speed of 50, should receive: No Ticket\n",
      "Vehicle with a speed of 10, should receive: No Ticket\n",
      "Vehicle with a speed of 100, should receive: Big ticket\n",
      "Vehicle with a speed of 120, should receive: Big ticket\n",
      "Vehicle with a speed of 70, should receive: Small ticket\n",
      "Vehicle with a speed of 60, should receive: No Ticket\n",
      "Vehicle with a speed of 30, should receive: No Ticket\n",
      "Vehicle with a speed of 85, should receive: Big ticket\n",
      "Vehicle with a speed of 65, should receive: Small ticket\n",
      "Vehicle with a speed of 10, should receive: No Ticket\n"
     ]
    }
   ],
   "source": []
  },
  {
   "cell_type": "markdown",
   "id": "44f57203",
   "metadata": {},
   "source": [
    "Slice the following string and print the word \"word\".\n",
    "\n",
    "\"Try to get the word from this string, it's easy\"\n",
    "\n",
    "The result when you print it should look only like:\n",
    "\n",
    "\"word\""
   ]
  },
  {
   "cell_type": "code",
   "execution_count": 1,
   "id": "3e0bb0ec",
   "metadata": {},
   "outputs": [
    {
     "name": "stdout",
     "output_type": "stream",
     "text": [
      "word\n"
     ]
    }
   ],
   "source": []
  },
  {
   "cell_type": "markdown",
   "id": "7185d9d4",
   "metadata": {},
   "source": [
    "Print the area of a tringle with the following values for base and height:\n",
    "\n",
    "base = 5\n",
    "\n",
    "height = 8\n",
    "\n",
    "If the area of the triangle is greater than 30, then it should print a message similar to this one:\n",
    "\n",
    "\"Your triangle is too big! Its area was 35 square meters\"\n",
    "\n",
    "If it's smaller than 30, then the message should be the following:\n",
    "\n",
    "\"The triangle has an ok size, its area was 10 square meters\"\n",
    "\n",
    "\n",
    "The formula to calculate the are of a triangle is: (1/2) * base * height"
   ]
  },
  {
   "cell_type": "code",
   "execution_count": 4,
   "id": "ae1ab893",
   "metadata": {},
   "outputs": [
    {
     "name": "stdout",
     "output_type": "stream",
     "text": [
      "The triangle has an ok size, its area was 20.0 square meters\n"
     ]
    }
   ],
   "source": []
  },
  {
   "cell_type": "markdown",
   "id": "03afa6fd",
   "metadata": {},
   "source": [
    "Given the following lists:\n",
    "\n",
    "list_a = [10,30,22]\n",
    "\n",
    "list_b = [7,45,66]\n",
    "\n",
    "Add and print the items that have the same index number, example: \n",
    "    \n",
    "    You should only add and print element with index 0 from list_a and list_b, 10+7 = 17\n",
    "    Index 1: 30 + 45 = 75\n",
    "    index 2: 22 + 66 = 88\n",
    "    \n",
    "The message you want to print should look like:\n",
    "\n",
    "\"The result of 10 + 7 = 17\"..\n",
    "\n"
   ]
  },
  {
   "cell_type": "code",
   "execution_count": 7,
   "id": "da5e02bc",
   "metadata": {},
   "outputs": [
    {
     "name": "stdout",
     "output_type": "stream",
     "text": [
      "The result of 10 + 7 = 17\n",
      "The result of 30 + 45 = 75\n",
      "The result of 22 + 66 = 88\n"
     ]
    }
   ],
   "source": []
  },
  {
   "cell_type": "markdown",
   "id": "eaeeddef",
   "metadata": {},
   "source": [
    "What is the difference between a list and a tuple?"
   ]
  },
  {
   "cell_type": "code",
   "execution_count": null,
   "id": "bcfec987",
   "metadata": {},
   "outputs": [],
   "source": []
  },
  {
   "cell_type": "markdown",
   "id": "526d18c1",
   "metadata": {},
   "source": [
    "The data stored in a dictionary, it was described that it is stored in pairs of...?"
   ]
  },
  {
   "cell_type": "code",
   "execution_count": null,
   "id": "e63e47c4",
   "metadata": {},
   "outputs": [],
   "source": []
  }
 ],
 "metadata": {
  "kernelspec": {
   "display_name": "Python 3",
   "language": "python",
   "name": "python3"
  },
  "language_info": {
   "codemirror_mode": {
    "name": "ipython",
    "version": 3
   },
   "file_extension": ".py",
   "mimetype": "text/x-python",
   "name": "python",
   "nbconvert_exporter": "python",
   "pygments_lexer": "ipython3",
   "version": "3.8.8"
  }
 },
 "nbformat": 4,
 "nbformat_minor": 5
}
